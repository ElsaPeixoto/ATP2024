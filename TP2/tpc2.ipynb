{
 "cells": [
  {
   "cell_type": "code",
   "execution_count": null,
   "metadata": {},
   "outputs": [],
   "source": [
    "import random\n",
    "n = random.randint(0,100)\n",
    "\n",
    "tentativas = 0\n",
    "resposta = int(input(\"Vou pensar num número entre 0 e 100, tenta adivinhar qual é!\"))\n",
    "\n",
    "while resposta != n:\n",
    "\n",
    "    if resposta > n:\n",
    "        print(\"Estou a pensar num número menor. Tenta de novo.\")\n",
    "\n",
    "    elif resposta < n:\n",
    "        print(\"Estou a pensar num número maior. Tenta de novo.\")\n",
    "\n",
    "    else:\n",
    "        print(f\"Acertou! Foram necessárias {tentativas} tentativas!\")\n",
    "    tentativas = tentativas + 1"
   ]
  }
 ],
 "metadata": {
  "language_info": {
   "name": "python"
  }
 },
 "nbformat": 4,
 "nbformat_minor": 2
}
